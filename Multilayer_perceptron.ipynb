{
 "cells": [
  {
   "cell_type": "markdown",
   "metadata": {},
   "source": [
    "# Multilayer perceptron"
   ]
  },
  {
   "cell_type": "code",
   "execution_count": 1,
   "metadata": {},
   "outputs": [],
   "source": [
    "import numpy as np\n",
    "import matplotlib.pyplot as plt\n",
    "import seaborn as sns\n",
    "\n",
    "# Prettier plots\n",
    "sns.set()"
   ]
  },
  {
   "cell_type": "code",
   "execution_count": 2,
   "metadata": {},
   "outputs": [],
   "source": [
    "class NeuronLayer():\n",
    "    def __init__(self, n_inputs, n_neurons):\n",
    "        self.weights = 2 * np.random.random((n_inputs, n_neurons)) - 1\n",
    "        self.output = np.zeros(n_neurons)\n",
    "        self.bias = np.zeros(n_neurons)\n",
    "        self.deltas = np.zeros(n_neurons)\n",
    "    def print(self):\n",
    "        print(\"Weights:\", self.weights)\n",
    "        \n",
    "class NeuralNetwork:\n",
    "    def __init__(self, layers):\n",
    "        self.layers = layers\n",
    "        self.errors = []\n",
    "\n",
    "    def activation_function(self, x):\n",
    "        return 1 / (1 + np.exp(-x))  # Sigmoid\n",
    "    \n",
    "    def activation_function_derivative(self, x):\n",
    "        return x * (1 - x)  # Sigmoid derivative\n",
    "    \n",
    "    def train(self, inputs, expected, learning_rate, n_epochs):\n",
    "        for epoch in range(n_epochs):\n",
    "            self.forward_propagation(inputs)\n",
    "            self.backward_propagation(expected)\n",
    "            self.update_weights(inputs, learning_rate)\n",
    "            \n",
    "    def forward_propagation(self, inputs):\n",
    "        for layer in self.layers:\n",
    "            layer.outputs = self.activation_function(np.dot(inputs, layer.weights))\n",
    "            inputs = layer.outputs\n",
    "        return inputs\n",
    "    \n",
    "    def backward_propagation(self, expected):\n",
    "        for i in reversed(range(len(self.layers))):\n",
    "            layer = self.layers[i]\n",
    "            errors = 0\n",
    "            if i == len(self.layers) - 1:\n",
    "                errors = expected - layer.outputs\n",
    "                self.errors.append(errors)\n",
    "            else:\n",
    "                errors = np.dot(self.layers[i+1].deltas, self.layers[i+1].weights.T)\n",
    "\n",
    "            layer.deltas = errors * self.activation_function_derivative(layer.outputs)\n",
    "    \n",
    "    def update_weights(self, inputs, learning_rate):\n",
    "        adjustments = [];\n",
    "        for i in range(len(self.layers)):\n",
    "            if i != 0:\n",
    "                inputs = self.layers[i-1].outputs\n",
    "            adjustments.append(inputs.T.dot(self.layers[i].deltas) * learning_rate)\n",
    "        for i in range(len(self.layers)):\n",
    "            self.layers[i].weights += adjustments[i]"
   ]
  },
  {
   "cell_type": "code",
   "execution_count": 3,
   "metadata": {},
   "outputs": [],
   "source": [
    "data_set = np.array([[0, 0, 1], [0, 1, 1], [1, 0, 1], [1, 1, 1]])\n",
    "xor_set  = np.array([[0], [1], [1], [0]])"
   ]
  },
  {
   "cell_type": "code",
   "execution_count": 4,
   "metadata": {},
   "outputs": [
    {
     "data": {
      "image/png": "[encoded data removed]",
      "text/plain": [
       "<matplotlib.figure.Figure at 0x7f8fb48a8550>"
      ]
     },
     "metadata": {},
     "output_type": "display_data"
    },
    {
     "data": {
      "text/plain": [
       "array([[0.02773024],\n",
       "       [0.96915223],\n",
       "       [0.97782037],\n",
       "       [0.02912144]])"
      ]
     },
     "execution_count": 4,
     "metadata": {},
     "output_type": "execute_result"
    }
   ],
   "source": [
    "for n_hidden in range(1, 5):    \n",
    "    hl = NeuronLayer(3, n_hidden)\n",
    "    ol = NeuronLayer(n_hidden, 1)\n",
    "    nn = NeuralNetwork((hl, ol))\n",
    "    nn.train(data_set, xor_set, 0.1, 20000)\n",
    "    plt.plot(np.sum(np.squeeze(nn.errors)**2,1), label=n_hidden)\n",
    "\n",
    "plt.title(\"XOR with Multilayer Perceptron\")\n",
    "plt.ylabel(\"SSE\")\n",
    "plt.xlabel(\"Epochs\")\n",
    "plt.legend()\n",
    "plt.show()\n",
    "nn.forward_propagation(data_set)"
   ]
  },
  {
   "cell_type": "code",
   "execution_count": null,
   "metadata": {},
   "outputs": [],
   "source": []
  }
 ],
 "metadata": {
  "kernelspec": {
   "display_name": "Python 3",
   "language": "python",
   "name": "python3"
  },
  "language_info": {
   "codemirror_mode": {
    "name": "ipython",
    "version": 3
   },
   "file_extension": ".py",
   "mimetype": "text/x-python",
   "name": "python",
   "nbconvert_exporter": "python",
   "pygments_lexer": "ipython3",
   "version": "3.6.4"
  }
 },
 "nbformat": 4,
 "nbformat_minor": 2
}
